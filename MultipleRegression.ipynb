{
  "nbformat": 4,
  "nbformat_minor": 0,
  "metadata": {
    "colab": {
      "name": "Reg.ipynb",
      "provenance": []
    },
    "kernelspec": {
      "name": "python3",
      "display_name": "Python 3"
    }
  },
  "cells": [
    {
      "cell_type": "code",
      "metadata": {
        "id": "aExqJZggM4NA"
      },
      "source": [
        "import matplotlib.pyplot as plt\r\n",
        "import pandas as pd\r\n",
        "from sklearn import linear_model\r\n",
        "\r\n",
        "df = pd.read_csv(\"cars.csv\")"
      ],
      "execution_count": 13,
      "outputs": []
    },
    {
      "cell_type": "code",
      "metadata": {
        "id": "Qvj2pXntVi-d"
      },
      "source": [
        "X=df[['Weight', 'Volume']]\r\n",
        "y=df['CO2']"
      ],
      "execution_count": 14,
      "outputs": []
    },
    {
      "cell_type": "code",
      "metadata": {
        "id": "ywPPnNJEXw9A"
      },
      "source": [
        "#Making the multiple regression model\r\n",
        "reg= linear_model.LinearRegression()\r\n",
        "reg.fit(X,y)"
      ],
      "execution_count": null,
      "outputs": []
    },
    {
      "cell_type": "code",
      "metadata": {
        "colab": {
          "base_uri": "https://localhost:8080/"
        },
        "id": "r22Y0W2rX-wt",
        "outputId": "660638ea-3e95-423c-97ae-74c77288892d"
      },
      "source": [
        "#testing model with a datapoint within the set\r\n",
        "\r\n",
        "p1=reg.predict([[2300,1300]])\r\n",
        "print(p1)"
      ],
      "execution_count": 16,
      "outputs": [
        {
          "output_type": "stream",
          "text": [
            "[107.2087328]\n"
          ],
          "name": "stdout"
        }
      ]
    },
    {
      "cell_type": "code",
      "metadata": {
        "colab": {
          "base_uri": "https://localhost:8080/"
        },
        "id": "KROl5WvYYcbu",
        "outputId": "d89f9c0a-1292-4d62-e3f1-f78029548fda"
      },
      "source": [
        "#Checking the coefficients used in the regression equation\r\n",
        "print(reg.coef_)"
      ],
      "execution_count": 18,
      "outputs": [
        {
          "output_type": "stream",
          "text": [
            "[0.00755095 0.00780526]\n"
          ],
          "name": "stdout"
        }
      ]
    },
    {
      "cell_type": "code",
      "metadata": {
        "colab": {
          "base_uri": "https://localhost:8080/"
        },
        "id": "3jOcZVHqYsPI",
        "outputId": "0b633fdb-a7ec-4622-8fc9-0da262265cd8"
      },
      "source": [
        "#testing new datapoint\r\n",
        "\r\n",
        "p2=reg.predict([[3300,1300]])\r\n",
        "print(p2)"
      ],
      "execution_count": 19,
      "outputs": [
        {
          "output_type": "stream",
          "text": [
            "[114.75968007]\n"
          ],
          "name": "stdout"
        }
      ]
    },
    {
      "cell_type": "code",
      "metadata": {
        "id": "BYnVb0DNZNTn"
      },
      "source": [
        ""
      ],
      "execution_count": null,
      "outputs": []
    }
  ]
}